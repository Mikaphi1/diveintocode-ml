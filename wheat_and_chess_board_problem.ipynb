{
 "cells": [
  {
   "cell_type": "markdown",
   "metadata": {
    "id": "3kZLPCxUoJJ6"
   },
   "source": [
    "#**[Problem 1]**\n",
    "##***Number of wheat on a 2 x 2 square chess board***"
   ]
  },
  {
   "cell_type": "code",
   "execution_count": 1,
   "metadata": {
    "colab": {
     "base_uri": "https://localhost:8080/"
    },
    "id": "VEQOaaGuyQQ7",
    "outputId": "c5888be7-191f-4403-d0f4-4e03ef4ffba8"
   },
   "outputs": [
    {
     "name": "stdout",
     "output_type": "stream",
     "text": [
      "Arrange wheat on a plate of 4 squares (ndarray)：[[1 2]\n",
      " [4 8]]\n"
     ]
    }
   ],
   "source": [
    "n_squares = 4\n",
    "small_board_list = [1]\n",
    "for i in range(n_squares - 1):\n",
    "    small_board_list.append(2*small_board_list[-1])\n",
    "\n",
    "import numpy as np\n",
    "small_board_ndarray = np.array(small_board_list).reshape(2,2)\n",
    "\n",
    "print(\"Arrange wheat on a plate of 4 squares (ndarray)：{}\".format(small_board_ndarray))"
   ]
  },
  {
   "cell_type": "markdown",
   "metadata": {
    "id": "racGuLkFpPuL"
   },
   "source": [
    "#**[Problem 2]**\n",
    "##***Expansion to n × m mass***"
   ]
  },
  {
   "cell_type": "code",
   "execution_count": 2,
   "metadata": {
    "colab": {
     "base_uri": "https://localhost:8080/"
    },
    "id": "gdjM5GARpkRT",
    "outputId": "1dd92a29-b54e-44d2-f1e5-3e5ca92819de"
   },
   "outputs": [
    {
     "name": "stdout",
     "output_type": "stream",
     "text": [
      "Arrange wheat on an 8x8 square chess board (ndarray)：[[1.00000000e+00 2.00000000e+00 4.00000000e+00 8.00000000e+00\n",
      "  1.60000000e+01 3.20000000e+01 6.40000000e+01 1.28000000e+02]\n",
      " [2.56000000e+02 5.12000000e+02 1.02400000e+03 2.04800000e+03\n",
      "  4.09600000e+03 8.19200000e+03 1.63840000e+04 3.27680000e+04]\n",
      " [6.55360000e+04 1.31072000e+05 2.62144000e+05 5.24288000e+05\n",
      "  1.04857600e+06 2.09715200e+06 4.19430400e+06 8.38860800e+06]\n",
      " [1.67772160e+07 3.35544320e+07 6.71088640e+07 1.34217728e+08\n",
      "  2.68435456e+08 5.36870912e+08 1.07374182e+09 2.14748365e+09]\n",
      " [4.29496730e+09 8.58993459e+09 1.71798692e+10 3.43597384e+10\n",
      "  6.87194767e+10 1.37438953e+11 2.74877907e+11 5.49755814e+11]\n",
      " [1.09951163e+12 2.19902326e+12 4.39804651e+12 8.79609302e+12\n",
      "  1.75921860e+13 3.51843721e+13 7.03687442e+13 1.40737488e+14]\n",
      " [2.81474977e+14 5.62949953e+14 1.12589991e+15 2.25179981e+15\n",
      "  4.50359963e+15 9.00719925e+15 1.80143985e+16 3.60287970e+16]\n",
      " [7.20575940e+16 1.44115188e+17 2.88230376e+17 5.76460752e+17\n",
      "  1.15292150e+18 2.30584301e+18 4.61168602e+18 9.22337204e+18]]\n"
     ]
    }
   ],
   "source": [
    "# Create a function that returns a ndarray containing the number of wheat on an nxm chess board\n",
    "\n",
    "def nxm_board(n,m):\n",
    "  import numpy as np\n",
    "  n_squares = n * m\n",
    "  n_by_m_board_list = [1]\n",
    "  for i in range(n_squares - 1):\n",
    "    n_by_m_board_list.append(2*n_by_m_board_list[-1])\n",
    "  n_by_m_board_array = np.array(n_by_m_board_list).reshape(n,m)\n",
    "  return n_by_m_board_array\n",
    "print(\"Arrange wheat on an 8x8 square chess board (ndarray)：{}\".format(nxm_board(8,8)))"
   ]
  },
  {
   "cell_type": "markdown",
   "metadata": {
    "id": "MxK4N6G4xj7z"
   },
   "source": [
    "#**[Problem 3]**\n",
    "##***Total number of wheat***"
   ]
  },
  {
   "cell_type": "code",
   "execution_count": 3,
   "metadata": {
    "colab": {
     "base_uri": "https://localhost:8080/"
    },
    "id": "pgb_BEYVxuCf",
    "outputId": "8e8bd7d6-77ab-486b-d05a-873bf491cc10"
   },
   "outputs": [
    {
     "name": "stdout",
     "output_type": "stream",
     "text": [
      "The total of wheat on a chess board of 8 x 8 squares is 1.8446744073709552e+19\n",
      "The average of each column of wheat on a 8 x 8 squares chess board  is [9.04252160e+15 1.80850432e+16 3.61700864e+16 7.23401728e+16\n",
      " 1.44680346e+17 2.89360691e+17 5.78721383e+17 1.15744277e+18]\n"
     ]
    }
   ],
   "source": [
    "# Find the total number of wheat on a chess board of 8 x 8 squares. Also, find the average of each column and visualize it in a bar chart\n",
    "\n",
    "print(\"The total of wheat on a chess board of 8 x 8 squares is {}\".format(nxm_board(8,8).sum()))\n",
    "print(\"The average of each column of wheat on a 8 x 8 squares chess board  is {}\".format(nxm_board(8,8).mean(axis=0)))"
   ]
  },
  {
   "cell_type": "code",
   "execution_count": 4,
   "metadata": {
    "colab": {
     "base_uri": "https://localhost:8080/",
     "height": 295
    },
    "id": "F4qjdXCh00ck",
    "outputId": "efe238c3-9b27-4883-c7fc-d599847d8db7"
   },
   "outputs": [
    {
     "data": {
      "image/png": "[encoded data removed]",
      "text/plain": [
       "<Figure size 432x288 with 1 Axes>"
      ]
     },
     "metadata": {
      "needs_background": "light"
     },
     "output_type": "display_data"
    }
   ],
   "source": [
    "# Visualization of the average of each column of wheat on a 8 x 8 squares chess board using a bar chart\n",
    "import matplotlib.pyplot as plt\n",
    "%matplotlib inline\n",
    "\n",
    "plt.xlabel(\"column\")\n",
    "plt.ylabel(\"average\")\n",
    "plt.title(\"Average in each column\")\n",
    "plt.bar(np.arange(1,9), nxm_board(8,8).mean(axis=0))\n",
    "plt.show()"
   ]
  },
  {
   "cell_type": "markdown",
   "metadata": {
    "id": "JfClMQGG4FPw"
   },
   "source": [
    "#**[Problem 4]**\n",
    "##***Heat map of the number of wheat***"
   ]
  },
  {
   "cell_type": "code",
   "execution_count": 5,
   "metadata": {
    "colab": {
     "base_uri": "https://localhost:8080/",
     "height": 295
    },
    "id": "_nc5dAnC4koi",
    "outputId": "9eca431e-b51e-4f86-ba48-f7d185b46d61"
   },
   "outputs": [
    {
     "data": {
      "image/png": "[encoded data removed]",
      "text/plain": [
       "<Figure size 432x288 with 1 Axes>"
      ]
     },
     "metadata": {
      "needs_background": "light"
     },
     "output_type": "display_data"
    }
   ],
   "source": [
    "# Visualize the number of wheat on the 8x8 chess board as a heat map.\n",
    "import matplotlib.pyplot as plt\n",
    "%matplotlib inline\n",
    "\n",
    "plt.xlabel(\"column\")\n",
    "plt.ylabel(\"row\")\n",
    "plt.title(\"heatmap\")\n",
    "plt.pcolor(nxm_board(8,8))\n",
    "plt.show()"
   ]
  },
  {
   "cell_type": "markdown",
   "metadata": {
    "id": "OMYkjq436CHi"
   },
   "source": [
    "#**[Problem 5]**\n",
    "##***How many times is the second half as long as the first half***"
   ]
  },
  {
   "cell_type": "code",
   "execution_count": 6,
   "metadata": {
    "colab": {
     "base_uri": "https://localhost:8080/"
    },
    "id": "99LOPgQt6RNB",
    "outputId": "568844f1-47e9-473d-aabe-6709ed366f78"
   },
   "outputs": [
    {
     "name": "stdout",
     "output_type": "stream",
     "text": [
      "[2.55000000e+02 6.52800000e+04 1.67116800e+07 4.27819008e+09\n",
      " 1.09521666e+12 2.80375465e+14 7.17761191e+16 1.83746865e+19]\n",
      "The number of times the wheat in the second half is greater than the first half is 4,294,967,296.0\n"
     ]
    }
   ],
   "source": [
    "# If the first half is considered to be the first 4 rows:\n",
    "sum_of_rows = (nxm_board(8,8).sum(axis=1))\n",
    "\n",
    "print(sum_of_rows)\n",
    "\n",
    "first_half_rows = sum_of_rows[:4]\n",
    "second_half_rows = sum_of_rows[4:]\n",
    "\n",
    "sum_first_half_rows = first_half_rows.sum()\n",
    "sum_second_half_rows = second_half_rows.sum()\n",
    "\n",
    "print(\"The number of times the wheat in the second half is greater than the first half is {:,}\".format(sum_second_half_rows/sum_first_half_rows))"
   ]
  },
  {
   "cell_type": "code",
   "execution_count": 7,
   "metadata": {
    "colab": {
     "base_uri": "https://localhost:8080/"
    },
    "id": "uWmToFPzAzLl",
    "outputId": "c2dc85df-9900-4e59-abae-1a75a2444fc8"
   },
   "outputs": [
    {
     "name": "stdout",
     "output_type": "stream",
     "text": [
      "[7.23401728e+16 1.44680346e+17 2.89360691e+17 5.78721383e+17\n",
      " 1.15744277e+18 2.31488553e+18 4.62977106e+18 9.25954212e+18]\n",
      "The number of times the wheat in the second half is greater than the first half is 16.0\n"
     ]
    }
   ],
   "source": [
    "# If the first half is considered to be the first 4 columns:\n",
    "sum_of_columns1 = (nxm_board(8,8).sum(axis=0))\n",
    "\n",
    "print(sum_of_columns1)\n",
    "\n",
    "first_half_columns = sum_of_columns1[:4]\n",
    "second_half_columns = sum_of_columns1[4:]\n",
    "\n",
    "sum_first_half_columns = first_half_columns.sum()\n",
    "sum_second_half_columns = second_half_columns.sum()\n",
    "\n",
    "print(\"The number of times the wheat in the second half is greater than the first half is {}\".format(sum_second_half_columns/sum_first_half_columns))"
   ]
  },
  {
   "cell_type": "markdown",
   "metadata": {
    "id": "Y9UVMbYJCds8"
   },
   "source": [
    "#**[Problem 6]**\n",
    "##***Expansion to n × m mass by another calculation method***"
   ]
  },
  {
   "cell_type": "code",
   "execution_count": 8,
   "metadata": {
    "colab": {
     "base_uri": "https://localhost:8080/"
    },
    "id": "-qnqduBmE4VF",
    "outputId": "b3589e00-01d0-4b65-8c3b-b08f744e84ef"
   },
   "outputs": [
    {
     "name": "stdout",
     "output_type": "stream",
     "text": [
      "Arrange wheat on an 8x8 square chess board (ndarray)：[[                  1                   2                   4\n",
      "                    8                  16                  32\n",
      "                   64                 128]\n",
      " [                256                 512                1024\n",
      "                 2048                4096                8192\n",
      "                16384               32768]\n",
      " [              65536              131072              262144\n",
      "               524288             1048576             2097152\n",
      "              4194304             8388608]\n",
      " [           16777216            33554432            67108864\n",
      "            134217728           268435456           536870912\n",
      "           1073741824          2147483648]\n",
      " [         4294967296          8589934592         17179869184\n",
      "          34359738368         68719476736        137438953472\n",
      "         274877906944        549755813888]\n",
      " [      1099511627776       2199023255552       4398046511104\n",
      "        8796093022208      17592186044416      35184372088832\n",
      "       70368744177664     140737488355328]\n",
      " [    281474976710656     562949953421312    1125899906842624\n",
      "     2251799813685248    4503599627370496    9007199254740992\n",
      "    18014398509481984   36028797018963968]\n",
      " [  72057594037927936  144115188075855872  288230376151711744\n",
      "   576460752303423488 1152921504606846976 2305843009213693952\n",
      "  4611686018427387904 9223372036854775808]]\n"
     ]
    }
   ],
   "source": [
    "# Create function that uses np.append() and for statement\n",
    "def nxm_board_2(n,m):\n",
    "  import numpy as np\n",
    "  n_squares = n * m\n",
    "  small_board_ndarray = np.array([1])\n",
    "  for _ in range(n_squares - 1):\n",
    "    small_board_ndarray = np.append(small_board_ndarray, 2*small_board_ndarray[-1]).astype(np.uint64)\n",
    "  return small_board_ndarray.reshape(n,m)\n",
    "print(\"Arrange wheat on an 8x8 square chess board (ndarray)：{}\".format(nxm_board_2(8,8)))"
   ]
  },
  {
   "cell_type": "code",
   "execution_count": 9,
   "metadata": {
    "colab": {
     "base_uri": "https://localhost:8080/"
    },
    "id": "dTFpHI6rCqwy",
    "outputId": "edc5f418-1bc5-4139-f27b-813f5361a5b6"
   },
   "outputs": [
    {
     "name": "stdout",
     "output_type": "stream",
     "text": [
      "Arrange wheat on an 8x8 square chess board (ndarray)：[[                  1                   2                   4\n",
      "                    8                  16                  32\n",
      "                   64                 128]\n",
      " [                256                 512                1024\n",
      "                 2048                4096                8192\n",
      "                16384               32768]\n",
      " [              65536              131072              262144\n",
      "               524288             1048576             2097152\n",
      "              4194304             8388608]\n",
      " [           16777216            33554432            67108864\n",
      "            134217728           268435456           536870912\n",
      "           1073741824          2147483648]\n",
      " [         4294967296          8589934592         17179869184\n",
      "          34359738368         68719476736        137438953472\n",
      "         274877906944        549755813888]\n",
      " [      1099511627776       2199023255552       4398046511104\n",
      "        8796093022208      17592186044416      35184372088832\n",
      "       70368744177664     140737488355328]\n",
      " [    281474976710656     562949953421312    1125899906842624\n",
      "     2251799813685248    4503599627370496    9007199254740992\n",
      "    18014398509481984   36028797018963968]\n",
      " [  72057594037927936  144115188075855872  288230376151711744\n",
      "   576460752303423488 1152921504606846976 2305843009213693952\n",
      "  4611686018427387904 9223372036854775808]]\n"
     ]
    }
   ],
   "source": [
    "# Create function that uses broadcast\n",
    "def nxm_board_3(n,m):\n",
    "  import numpy as np\n",
    "  n_squares = n * m\n",
    "  indices_of_squares = np.arange(n_squares).astype(np.uint64).reshape(n,m)\n",
    "  board_ndarray = 2**indices_of_squares\n",
    "  return board_ndarray\n",
    "print(\"Arrange wheat on an 8x8 square chess board (ndarray)：{}\".format(nxm_board_3(8,8)))"
   ]
  },
  {
   "cell_type": "markdown",
   "metadata": {
    "id": "YWipRYja2WSy"
   },
   "source": [
    "#**[Problem 7]**\n",
    "##***Comparing calculation times***"
   ]
  },
  {
   "cell_type": "markdown",
   "metadata": {
    "id": "rvWTLYrb4WE8"
   },
   "source": [
    "###Method 1 - sing list and for statement"
   ]
  },
  {
   "cell_type": "code",
   "execution_count": 10,
   "metadata": {
    "colab": {
     "base_uri": "https://localhost:8080/"
    },
    "id": "WYSKZxHG2leW",
    "outputId": "09ed2c2f-d4f5-4737-8083-bd0a548edf4b"
   },
   "outputs": [
    {
     "name": "stdout",
     "output_type": "stream",
     "text": [
      "84.3 ns ± 4.57 ns per loop (mean ± std. dev. of 7 runs, 10000000 loops each)\n"
     ]
    }
   ],
   "source": [
    "%%timeit\n",
    "def nxm_board(n,m):\n",
    "  import numpy as np\n",
    "  n_squares = n * m\n",
    "  n_by_m_board_list = [1]\n",
    "  for i in range(n_squares - 1):\n",
    "    n_by_m_board_list.append(2*n_by_m_board_list[-1])\n",
    "  n_by_m_board_array = np.array(n_by_m_board_list).reshape(n,m)\n",
    "  return n_by_m_board_array\n"
   ]
  },
  {
   "cell_type": "markdown",
   "metadata": {
    "id": "KZQ_Wa3v4bF1"
   },
   "source": [
    "###Method 2 - using np.append and for statement"
   ]
  },
  {
   "cell_type": "code",
   "execution_count": 11,
   "metadata": {
    "colab": {
     "base_uri": "https://localhost:8080/"
    },
    "id": "CVrsWIjM2luM",
    "outputId": "c4675b85-ff4e-432e-9dba-2e63478d02e8"
   },
   "outputs": [
    {
     "name": "stdout",
     "output_type": "stream",
     "text": [
      "89.7 ns ± 6.31 ns per loop (mean ± std. dev. of 7 runs, 10000000 loops each)\n"
     ]
    }
   ],
   "source": [
    "%%timeit\n",
    "def nxm_board_2(n,m):\n",
    "  import numpy as np\n",
    "  n_squares = n * m\n",
    "  small_board_ndarray = np.array([1])\n",
    "  for _ in range(n_squares - 1):\n",
    "    small_board_ndarray = np.append(small_board_ndarray, 2*small_board_ndarray[-1]).astype(np.uint64)\n",
    "  return small_board_ndarray.reshape(n,m)\n"
   ]
  },
  {
   "cell_type": "markdown",
   "metadata": {
    "id": "QWwJucyo4hYf"
   },
   "source": [
    "###Method 3 - using broadcasting"
   ]
  },
  {
   "cell_type": "code",
   "execution_count": 12,
   "metadata": {
    "colab": {
     "base_uri": "https://localhost:8080/"
    },
    "id": "cVcBCTry2l5m",
    "outputId": "e407db06-4612-4cc2-a7e3-a9feb8570a3f"
   },
   "outputs": [
    {
     "name": "stdout",
     "output_type": "stream",
     "text": [
      "84.8 ns ± 6.61 ns per loop (mean ± std. dev. of 7 runs, 10000000 loops each)\n"
     ]
    }
   ],
   "source": [
    "%%timeit\n",
    "def nxm_board_3(n,m):\n",
    "  import numpy as np\n",
    "  n_squares = n * m\n",
    "  indices_of_squares = np.arange(n_squares).astype(np.uint64).reshape(n,m)\n",
    "  board_ndarray = 2**indices_of_squares\n",
    "  return board_ndarray\n"
   ]
  },
  {
   "cell_type": "code",
   "execution_count": null,
   "metadata": {},
   "outputs": [],
   "source": []
  }
 ],
 "metadata": {
  "colab": {
   "collapsed_sections": [],
   "name": "wheat_and chess_board_problem.ipynb",
   "provenance": []
  },
  "kernelspec": {
   "display_name": "Python 3",
   "language": "python",
   "name": "python3"
  },
  "language_info": {
   "codemirror_mode": {
    "name": "ipython",
    "version": 3
   },
   "file_extension": ".py",
   "mimetype": "text/x-python",
   "name": "python",
   "nbconvert_exporter": "python",
   "pygments_lexer": "ipython3",
   "version": "3.7.6"
  }
 },
 "nbformat": 4,
 "nbformat_minor": 1
}
