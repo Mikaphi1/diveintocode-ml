{
 "cells": [
  {
   "cell_type": "markdown",
   "metadata": {
    "id": "8uUm91m6RvmT"
   },
   "source": [
    "#**[Problem]**\n",
    "##***Volume asumptions***\n",
    "###**Chestnut buns and the Solar System**\n",
    "\n",
    "a regular burger bun is roughly 3 and a half inches in diameter. This translates to 0.0889 meters. The radius is, therefore, is 0.04445 meters (or 4.5cm). a regular bun is also 2 inches in height and this translates to 0.0508 metres (or 5cm).\n",
    "\n",
    "It was assumed that chestnut buns are cylindrical in shape, hence, the following formula was used:\n",
    "$$V=πr^{2}h$$\n",
    "\n",
    "\n",
    "Here, it is assumed that pluto is at the edge of the solar system and is the farthest orbiting object. It must be noted that pluto is no longer considered a planet. The farthest planet from the sun is Neptune. however, for the this exercise, the orbit of Pluto shall be considered as the farthest edge of the solar system. The distance of Pluto from the sun is 5.9 billion kilometeres (or 39.5 astronomical units(AU)) from the sun. This can be taken as the radius of the system. in meters, this can be expressed as 5.9 * 10^12\n",
    "\n",
    "For this exercise, the assumption shall be that the shape of the solar system is spherical. Therefore, the formula for the volume of a sphere shall be used\n",
    "$$V=4/3πr^{3}$$\n",
    "\n",
    "***Source***: https://solarsystem.nasa.gov/news/1164/how-big-is-the-solar-system/\n",
    "              \n",
    "https://www.quora.com/What-is-a-proper-size-hand-made-hamburger-patty\n",
    "\n",
    "###**A Football and the Earth**\n",
    "\n",
    "The Earth is roughly a sphere with a radius of approximately  6.37 million meters. Therefore, the formula for volume of a sphere is used.\n",
    "\n",
    "It is assumed that a football is sprinkled with Byevine and that it doubles in size every five minutes. A football is 22 centimeters in diameter and this translates to 0.11 meters in radius\n",
    "\n",
    "\n",
    "***Source***: https://www.physlink.com/education/askexperts/ae419.cfm\n",
    "\n",
    "###**A Rubik's Cube and Wembley Stadium**\n",
    "\n",
    "Here, it is assumed that a Rubik's Cube is sprinkled with Byevine and that it doubles in size every five minutes. A standard Rubik's cube measures about 5.6 centimeters on each side, and this is 0.056 meters. The formula for a a cube is as follows:\n",
    "$$V=Length\\times Width\\times Height$$\n",
    "\n",
    "Because height = length = width, the formula can also written as \n",
    "$$V=a^{3}$$\n",
    "\n",
    "The bowl volume of Wembley Stadium is listed as 1,139,100 meters cubed\n",
    "\n",
    "\n",
    "***Source***: https://en.wikipedia.org/wiki/Rubik%27s_Cube#Mechanics\n",
    "              \n",
    "https://en.wikipedia.org/wiki/Wembley_Stadium#Structure\n",
    "\n"
   ]
  },
  {
   "cell_type": "code",
   "execution_count": 8,
   "metadata": {
    "colab": {
     "base_uri": "https://localhost:8080/"
    },
    "id": "cRdDxP-gFEJZ",
    "outputId": "c9f244d4-3dc7-4ab2-c0ea-2fdb8d30346c"
   },
   "outputs": [
    {
     "name": "stdout",
     "output_type": "stream",
     "text": [
      "It would take approximately 704.84 minutes for the chestnut buns to cover the Solar System\n",
      "It would take approximately 386.81 minutes for the footballs to cover the Earth\n",
      "It would take approximately 162.97 minutes for the Rubik's Cubes to cover Wembley Stadium\n"
     ]
    }
   ],
   "source": [
    "import math\n",
    "\n",
    "pi = math.pi\n",
    "\n",
    "# Volumes in square meters\n",
    "CHESTNUT = pi * (0.04445**2) * 0.0508 # 0.000315324 meters cubed\n",
    "SOLAR_SYTEM_VOLUME = (4/3) * pi * ((5.9 * 10**12)**3) # 8.602895434688242 * 10^38 meters cubed\n",
    "FOOTBALL = (4/3) * pi * (0.11**3) # 0.005575279762570685 meters cubed\n",
    "EARTH =  (4/3) * pi * ((6.37 * 10**6)**3) # 1.0826969324300023 * 10^21 meters cubed\n",
    "RUBIKS_CUBE = 0.056**3 # 0.000175616 meters cubed\n",
    "WEMBLEY_STADIUM = 1139100\n",
    "\n",
    "# Create a function that calculates the time required using the volumes of objects\n",
    "## the value of n is multiplied by 5 minutes, as objects double in volume that time frame\n",
    "def time_required(t_n, t_o):\n",
    "  n = math.log(t_n/t_o)/math.log(2)\n",
    "  time = n * 5\n",
    "  return time\n",
    "\n",
    "print(\"It would take approximately {:.2f} minutes for the chestnut buns to cover the Solar System\".format(time_required(SOLAR_SYTEM_VOLUME, CHESTNUT)))\n",
    "print(\"It would take approximately {:.2f} minutes for the footballs to cover the Earth\".format(time_required(EARTH, FOOTBALL)))\n",
    "print(\"It would take approximately {:.2f} minutes for the Rubik's Cubes to cover Wembley Stadium\".format(time_required(WEMBLEY_STADIUM, RUBIKS_CUBE)))"
   ]
  },
  {
   "cell_type": "code",
   "execution_count": 10,
   "metadata": {},
   "outputs": [
    {
     "data": {
      "image/png": "[encoded data removed]",
      "text/plain": [
       "<Figure size 432x288 with 1 Axes>"
      ]
     },
     "metadata": {
      "needs_background": "light"
     },
     "output_type": "display_data"
    }
   ],
   "source": [
    "# Display scatter plot of volumes vs time required\n",
    "import math\n",
    "import matplotlib.pyplot as plt\n",
    "%matplotlib inline\n",
    "\n",
    "plt.title(\"Time Required for Objects to Grow to Size\")\n",
    "plt.xlabel(\"Time Required (minutes)\")\n",
    "plt.ylabel(\"Log of Volume\")\n",
    "plt.scatter(time_required(SOLAR_SYTEM_VOLUME, CHESTNUT), math.log(SOLAR_SYTEM_VOLUME), label = \"Solar System\", color= \"orange\", s=750)\n",
    "plt.scatter(time_required(EARTH, FOOTBALL), math.log(EARTH), label = \"Earth\", color = \"blue\", s=500)\n",
    "plt.scatter(time_required(WEMBLEY_STADIUM, RUBIKS_CUBE), math.log(WEMBLEY_STADIUM), label = \"Wembley Stadium\", color = \"red\", s=250)\n",
    "plt.legend()\n",
    "plt.show()"
   ]
  },
  {
   "cell_type": "code",
   "execution_count": null,
   "metadata": {},
   "outputs": [],
   "source": []
  }
 ],
 "metadata": {
  "colab": {
   "collapsed_sections": [],
   "name": "chestnut_manju_problem.ipynb",
   "provenance": []
  },
  "kernelspec": {
   "display_name": "Python 3",
   "language": "python",
   "name": "python3"
  },
  "language_info": {
   "codemirror_mode": {
    "name": "ipython",
    "version": 3
   },
   "file_extension": ".py",
   "mimetype": "text/x-python",
   "name": "python",
   "nbconvert_exporter": "python",
   "pygments_lexer": "ipython3",
   "version": "3.7.6"
  }
 },
 "nbformat": 4,
 "nbformat_minor": 1
}
