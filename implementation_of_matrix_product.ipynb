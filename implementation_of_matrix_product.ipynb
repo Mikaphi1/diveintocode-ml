{
 "cells": [
  {
   "cell_type": "markdown",
   "metadata": {
    "id": "Zs3kN2ED-62H"
   },
   "source": [
    "#**[Problem 1]**\n",
    "##***Matrix product is calculated manually***"
   ]
  },
  {
   "cell_type": "markdown",
   "metadata": {
    "id": "EBQ0bbNy0i9Y"
   },
   "source": [
    "<p>The 3 by 3 matrices can be multiplied in the following way.</p>\n",
    "<p>First, we express the two matrices, $A$ and $B$.</p>\n",
    "\n",
    "$$A=\n",
    " \\left[\n",
    " \\begin{matrix}\n",
    "   -1 & 2 & 3 \\\\\n",
    "   4 & -5 & 6 \\\\\n",
    "   7 & 8 & -9\n",
    "  \\end{matrix}\n",
    "  \\right],\n",
    "  B=\n",
    "  \\left[\n",
    "    \\begin{matrix}\n",
    "   0 & 2 & 1 \\\\\n",
    "   0 & 2 & -8 \\\\\n",
    "   2 & 9 & -1\n",
    "  \\end{matrix}\n",
    "  \\right]\n",
    "$$\n",
    "\n",
    "<p>The product of two matrices are obtained by multiplying each row by each column. To get the value of $a_{0, 0}$, the first row in matrix $A$ shall be multiplied by the first column in matrix $B$ and the products added. To get $a_{0,1}$, the first row in $A$ will be multiplied with the second column in $B$, and then the products  added. the process is repeated for each position until the resulting matrix is completed.</p>\n",
    "\n"
   ]
  },
  {
   "cell_type": "markdown",
   "metadata": {
    "id": "ub5LFV5v-u2Q"
   },
   "source": [
    "<p>The calculation of the the product of the matrices $A$ and $B$ is given below:</p>\n",
    "\n",
    "$$C=A \\times B=\n",
    " \\left[\n",
    " \\begin{matrix}\n",
    "   -1 & 2 & 3 \\\\\n",
    "   4 & -5 & 6 \\\\\n",
    "   7 & 8 & -9\n",
    "  \\end{matrix}\n",
    "  \\right]\n",
    "  \\times\n",
    "  \\left[\n",
    "    \\begin{matrix}\n",
    "   0 & 2 & 1 \\\\\n",
    "   0 & 2 & -8 \\\\\n",
    "   2 & 9 & -1\n",
    "  \\end{matrix}\n",
    "  \\right]\n",
    "$$\n",
    "\n",
    "<p>The rows are multiplied with the columns in the following way:</p>\n",
    "\n",
    "$$C=\n",
    " \\left[\n",
    " \\begin{matrix}\n",
    "   (-1\\times 0)+(2\\times 0)+(3\\times 2) & (-1\\times 2)+(2\\times 2)+(3\\times 9) & (-1\\times 1)+(2\\times -8)+(3\\times -1) \\\\\n",
    "   (4\\times 0)+(-5\\times 0)+(6\\times 2) & (4\\times 2)+(-5\\times 2)+(6\\times 9) & (4\\times 1)+(-5\\times -8)+(6\\times -1)\\\\\n",
    "   (7\\times 0)+(8\\times 0)+(-9\\times 2) & (7\\times 2)+(8\\times 2)+(-9\\times 9) & (7\\times 1)+(8\\times -8)+(-9\\times -1)\n",
    "  \\end{matrix}\n",
    "  \\right]\n",
    "$$\n",
    "\n",
    "<p>Tthe products of the rows and columns are then added in each position</p>\n",
    "\n",
    "$$C=\n",
    " \\left[\n",
    " \\begin{matrix}\n",
    "   0+0+6 & (-2)+4+27 & (-1)+(-16)+(-3) \\\\\n",
    "   0+0+12 & 8+(-10)+54 & 4+40+(-6)\\\\\n",
    "   0+0+(-18) & 14+16+(-81) & 7+(-64)+9\n",
    "  \\end{matrix}\n",
    "  \\right]\n",
    "$$\n",
    "\n",
    "<p> The Answer is:\n",
    "\n",
    "$$C=\n",
    " \\left[\n",
    " \\begin{matrix}\n",
    "   6 & 29 & -20 \\\\\n",
    "   12 & 52 & 38\\\\\n",
    "   -18 & -51 & -48\n",
    "  \\end{matrix}\n",
    "  \\right]\n",
    "$$"
   ]
  },
  {
   "cell_type": "markdown",
   "metadata": {
    "id": "CkVznjGc0lVY"
   },
   "source": [
    "#**[Problem 2]**\n",
    "##***Calculation by NumPy function***"
   ]
  },
  {
   "cell_type": "code",
   "execution_count": 1,
   "metadata": {
    "id": "9G7caMAcpoM5"
   },
   "outputs": [],
   "source": [
    "import numpy as np\n",
    "a_ndarray = np.array([[-1, 2, 3], [4, -5, 6], [7, 8, -9]])\n",
    "b_ndarray = np.array([[0, 2, 1], [0, 2, -8], [2, 9, -1]])"
   ]
  },
  {
   "cell_type": "markdown",
   "metadata": {
    "id": "Yrsbmye8KdXv"
   },
   "source": [
    "###*Using np.matmul()*"
   ]
  },
  {
   "cell_type": "code",
   "execution_count": 2,
   "metadata": {
    "colab": {
     "base_uri": "https://localhost:8080/"
    },
    "id": "PreANuaqK_AK",
    "outputId": "5de82e5f-9619-4fb2-9659-7487aac5ee5d"
   },
   "outputs": [
    {
     "name": "stdout",
     "output_type": "stream",
     "text": [
      "[[  6  29 -20]\n",
      " [ 12  52  38]\n",
      " [-18 -51 -48]]\n"
     ]
    }
   ],
   "source": [
    "c_ndarray_1 = np.matmul(a_ndarray, b_ndarray)\n",
    "print(c_ndarray_1)"
   ]
  },
  {
   "cell_type": "markdown",
   "metadata": {
    "id": "-ebTYKIoN0iW"
   },
   "source": [
    "###*Using @ operator*"
   ]
  },
  {
   "cell_type": "code",
   "execution_count": 3,
   "metadata": {
    "colab": {
     "base_uri": "https://localhost:8080/"
    },
    "id": "VSzB8osxNzjF",
    "outputId": "9a52596f-17fc-4c72-f5e1-dc418621a98f"
   },
   "outputs": [
    {
     "name": "stdout",
     "output_type": "stream",
     "text": [
      "[[  6  29 -20]\n",
      " [ 12  52  38]\n",
      " [-18 -51 -48]]\n"
     ]
    }
   ],
   "source": [
    "c_ndarray_2 = a_ndarray @ b_ndarray\n",
    "print(c_ndarray_2)"
   ]
  },
  {
   "cell_type": "markdown",
   "metadata": {
    "id": "78uc9MoMMZD1"
   },
   "source": [
    "###*Using np.dot()*"
   ]
  },
  {
   "cell_type": "code",
   "execution_count": 4,
   "metadata": {
    "colab": {
     "base_uri": "https://localhost:8080/"
    },
    "id": "NIdJOrA2MKrR",
    "outputId": "0694e1f0-0baf-4639-e002-57b1a76cdbba"
   },
   "outputs": [
    {
     "name": "stdout",
     "output_type": "stream",
     "text": [
      "[[  6  29 -20]\n",
      " [ 12  52  38]\n",
      " [-18 -51 -48]]\n"
     ]
    }
   ],
   "source": [
    "c_ndarray_3 = np.dot(a_ndarray, b_ndarray)\n",
    "print(c_ndarray_3)"
   ]
  },
  {
   "cell_type": "markdown",
   "metadata": {
    "id": "51BboW7qQaU-"
   },
   "source": [
    "#**[Problem 3]**\n",
    "##***Implementation of calculation of a certain element*** "
   ]
  },
  {
   "cell_type": "code",
   "execution_count": 5,
   "metadata": {
    "colab": {
     "base_uri": "https://localhost:8080/"
    },
    "id": "DOX9BTDXg5Tx",
    "outputId": "48a026e5-a8f2-4a41-d57f-2ece70318bee"
   },
   "outputs": [
    {
     "name": "stdout",
     "output_type": "stream",
     "text": [
      "[[  6  29 -20]\n",
      " [ 12  52  38]\n",
      " [-18 -51 -48]]\n"
     ]
    }
   ],
   "source": [
    "c_ndarray_5 = np.array([[0,0,0],\n",
    "         [0,0,0],\n",
    "         [0,0,0]])\n",
    "\n",
    "# iterate through rows of X\n",
    "for i in range(len(a_ndarray)):\n",
    "   # iterate through columns of Y\n",
    "   for j in range(len(b_ndarray[0])):\n",
    "       # iterate through rows of Y\n",
    "       for k in range(len(b_ndarray)):\n",
    "           c_ndarray_5[i][j] += a_ndarray[i][k] * b_ndarray[k][j]\n",
    "\n",
    "\n",
    "print(c_ndarray_5)"
   ]
  },
  {
   "cell_type": "markdown",
   "metadata": {
    "id": "xnOXALSNp_hx"
   },
   "source": [
    "#**[Problem 4]**\n",
    "##***Creating a function that performs matrix multiplication***"
   ]
  },
  {
   "cell_type": "code",
   "execution_count": 6,
   "metadata": {
    "colab": {
     "base_uri": "https://localhost:8080/"
    },
    "id": "Tlp_HKGRp7ic",
    "outputId": "92fd5fe0-4360-4191-c670-bad48b96026a"
   },
   "outputs": [
    {
     "data": {
      "text/plain": [
       "array([[  6,  29, -20],\n",
       "       [ 12,  52,  38],\n",
       "       [-18, -51, -48]])"
      ]
     },
     "execution_count": 6,
     "metadata": {},
     "output_type": "execute_result"
    }
   ],
   "source": [
    "# Create a function that can multiply matrices\n",
    "def matrix_multiplier(a,b):\n",
    "  import numpy as np\n",
    "  c_ndarray_6 = np.array([[0 for x in range(len(b[0]))] for y in range(len(a))])\n",
    "  # iterate through rows of a\n",
    "  for i in range(len(a)):\n",
    "    # iterate through columns of b\n",
    "    for j in range(len(b[0])):\n",
    "      # iterate through rows of b\n",
    "      for k in range(len(b)):\n",
    "        c_ndarray_6[i][j] += a[i][k] * b[k][j]\n",
    "  return c_ndarray_6\n",
    "\n",
    "matrix_multiplier(a_ndarray,b_ndarray)"
   ]
  },
  {
   "cell_type": "markdown",
   "metadata": {
    "id": "OVkPH2PTH3aU"
   },
   "source": [
    "#**[Problem 5]**\n",
    "##***Judge the input whose calculation is not defined***"
   ]
  },
  {
   "cell_type": "code",
   "execution_count": 7,
   "metadata": {
    "colab": {
     "base_uri": "https://localhost:8080/"
    },
    "id": "dZ6xCESsJ9Tl",
    "outputId": "b4b4d791-b61e-47de-e45f-abb5e241c335"
   },
   "outputs": [
    {
     "name": "stdout",
     "output_type": "stream",
     "text": [
      "Matrix multiplication is not defined\n"
     ]
    }
   ],
   "source": [
    "d_ndarray = np.array([[-1, 2, 3], [4, -5, 6]])\n",
    "e_ndarray = np.array([[-9, 8, 7], [6, -5, 4]])\n",
    "\n",
    "# Create a function that can multiply matrices and judges if calculation is not defined\n",
    "def matrix_multiplier2(a,b):\n",
    "  import numpy as np\n",
    "  c_ndarray_7 = np.array([[0 for x in range(len(b[0]))] for y in range(len(a))])\n",
    "  # iterate through rows of a\n",
    "  for i in range(len(a)):\n",
    "    # iterate through columns of b\n",
    "    for j in range(len(b[0])):\n",
    "      # iterate through rows of b\n",
    "      for k in range(len(b)):\n",
    "        c_ndarray_7[i][j] += a[i][k] * b[k][j]\n",
    "  # for metrix multiplication to be defined, the number of columns in a must be equal to the number of rows in b, therefore:\n",
    "  if len(a[0]) != len(b):\n",
    "    print(\"Matrix multiplication is not defined\")\n",
    "  else:\n",
    "    print(np.array(c_ndarray_7))\n",
    "\n",
    "matrix_multiplier2(d_ndarray,e_ndarray)"
   ]
  },
  {
   "cell_type": "markdown",
   "metadata": {
    "id": "-fsW6v9GXqv-"
   },
   "source": [
    "#**[Problem 6]**\n",
    "##Transposition**"
   ]
  },
  {
   "cell_type": "markdown",
   "metadata": {
    "id": "7sOtxoE7Yf-r"
   },
   "source": [
    "###*Using np.transpose()*"
   ]
  },
  {
   "cell_type": "code",
   "execution_count": 8,
   "metadata": {
    "colab": {
     "base_uri": "https://localhost:8080/"
    },
    "id": "3XRlH6bFYdhI",
    "outputId": "99eee873-dd21-4060-cc3a-2b3befacdf09"
   },
   "outputs": [
    {
     "name": "stdout",
     "output_type": "stream",
     "text": [
      "[[-9  6]\n",
      " [ 8 -5]\n",
      " [ 7  4]]\n"
     ]
    }
   ],
   "source": [
    "# Transpose e_ndarray to make multiplication of matrices possible\n",
    "\n",
    "import numpy as np\n",
    "\n",
    "e_ndarray2 = np.transpose(e_ndarray)\n",
    "print(e_ndarray2)"
   ]
  },
  {
   "cell_type": "code",
   "execution_count": 9,
   "metadata": {
    "colab": {
     "base_uri": "https://localhost:8080/"
    },
    "id": "dV0roQI2Zmvp",
    "outputId": "7b0e3494-9551-4888-ddde-8e0642c6e66b"
   },
   "outputs": [
    {
     "name": "stdout",
     "output_type": "stream",
     "text": [
      "[[ 46  -4]\n",
      " [-34  73]]\n"
     ]
    }
   ],
   "source": [
    "# Perform multiplication\n",
    "matrix_multiplier2(d_ndarray,e_ndarray2)"
   ]
  },
  {
   "cell_type": "markdown",
   "metadata": {
    "id": "3iWOdOBllfIw"
   },
   "source": [
    "###Using np.ndarray.T"
   ]
  },
  {
   "cell_type": "code",
   "execution_count": 10,
   "metadata": {
    "colab": {
     "base_uri": "https://localhost:8080/"
    },
    "id": "ObfwLB4Ql29c",
    "outputId": "3ef5ae9a-8c3e-4340-effd-8dd8091df059"
   },
   "outputs": [
    {
     "name": "stdout",
     "output_type": "stream",
     "text": [
      "[[-9  6]\n",
      " [ 8 -5]\n",
      " [ 7  4]]\n"
     ]
    }
   ],
   "source": [
    "# Transpose e_ndarray to make multiplication of matrices possible\n",
    "\n",
    "import numpy as np\n",
    "\n",
    "e_ndarray3 = e_ndarray.T\n",
    "print(e_ndarray2)"
   ]
  },
  {
   "cell_type": "code",
   "execution_count": 11,
   "metadata": {
    "colab": {
     "base_uri": "https://localhost:8080/"
    },
    "id": "LERTw8OMmBWL",
    "outputId": "854ba8d4-309e-48a6-91cf-008005b3019d"
   },
   "outputs": [
    {
     "name": "stdout",
     "output_type": "stream",
     "text": [
      "[[ 46  -4]\n",
      " [-34  73]]\n"
     ]
    }
   ],
   "source": [
    "# Perform multiplication\n",
    "matrix_multiplier2(d_ndarray,e_ndarray3)"
   ]
  }
 ],
 "metadata": {
  "colab": {
   "collapsed_sections": [],
   "name": "implementation_of_matrix_product.ipynb",
   "provenance": []
  },
  "kernelspec": {
   "display_name": "Python 3",
   "language": "python",
   "name": "python3"
  },
  "language_info": {
   "codemirror_mode": {
    "name": "ipython",
    "version": 3
   },
   "file_extension": ".py",
   "mimetype": "text/x-python",
   "name": "python",
   "nbconvert_exporter": "python",
   "pygments_lexer": "ipython3",
   "version": "3.7.6"
  }
 },
 "nbformat": 4,
 "nbformat_minor": 1
}
