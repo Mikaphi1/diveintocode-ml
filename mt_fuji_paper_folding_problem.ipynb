{
 "cells": [
  {
   "cell_type": "markdown",
   "metadata": {
    "id": "-GKyNh1giMda"
   },
   "source": [
    "#**[Problem 1]**\n",
    "##*How many times to fold paper to exceed the height of Mt.Fuji*"
   ]
  },
  {
   "cell_type": "markdown",
   "metadata": {
    "id": "GIjAjXWOiJs9"
   },
   "source": [
    "###Changing the subject of the formula\n",
    "The first step is to change the subject of the formula to make the exponent $n$ the subject of the formula, as it represents the number of folds:\n",
    "$$t_{n}=t_{0}*2^{n}$$\n",
    "\n",
    "$$2^{n}=t_{n}/t_{0}$$\n",
    "\n",
    "Introduce logarithmic functions\n",
    "\n",
    "$$log(2^{n})=log(t_{n}/t_{0})$$\n",
    "\n",
    "$$n.log(2)=log(t_{n}/t_{0})$$\n",
    "\n",
    "$$[n=log(t_{n}/t_{0})/log(2)]$$\n",
    "\n",
    ">Therefore, the following code is used:"
   ]
  },
  {
   "cell_type": "code",
   "execution_count": 18,
   "metadata": {
    "colab": {
     "base_uri": "https://localhost:8080/"
    },
    "id": "bce2kkvl6Etd",
    "outputId": "3019ff94-e526-47eb-e114-ea37b1f8b78d"
   },
   "outputs": [
    {
     "name": "stdout",
     "output_type": "stream",
     "text": [
      "The minimum number of folds to exceed the height of Mt. Fuji is 25.49\n"
     ]
    }
   ],
   "source": [
    "import math\n",
    "\n",
    "THICKNESS = 0.00008\n",
    "fuji = 3776\n",
    "\n",
    "#Create a programme that calculates the minimum number of folds to exceed the height of Mt. Fuji\n",
    "def number_of_folds(t_n):\n",
    "  t_o = THICKNESS\n",
    "  n = math.log(t_n/t_o)/math.log(2)\n",
    "  return n\n",
    "\n",
    "print(\"The minimum number of folds to exceed the height of Mt. Fuji is {:.2f}\".format(number_of_folds(fuji)))\n"
   ]
  },
  {
   "cell_type": "markdown",
   "metadata": {
    "id": "vUouVUyvHXN3"
   },
   "source": [
    "#**[Problem 2]**\n",
    "##*Function corresponding to arbitrary thickness*"
   ]
  },
  {
   "cell_type": "code",
   "execution_count": 17,
   "metadata": {
    "colab": {
     "base_uri": "https://localhost:8080/"
    },
    "id": "_5ARZGZ7yoNN",
    "outputId": "41966e33-800a-40c7-fd4d-a4ef0e7d14e5"
   },
   "outputs": [
    {
     "name": "stdout",
     "output_type": "stream",
     "text": [
      "The number of times a paper must be folded to exceed Proxima Centauri is 68.77\n"
     ]
    }
   ],
   "source": [
    "import math\n",
    "\n",
    "THICKNESS = 0.00008\n",
    "proxima_centauri = 4.0175 * 10**16\n",
    "\n",
    "#Create function that calculates the minimum number of folds to exceed the height of Mt. Fuji\n",
    "def n_of_folds(t_o, t_n):\n",
    "  a = math.log(t_n/t_o)\n",
    "  b = math.log(2)\n",
    "  n = a/b\n",
    "  return n\n",
    "\n",
    "print(\"The number of times a paper must be folded to exceed Proxima Centauri is {:.2f}\".format(n_of_folds(THICKNESS, proxima_centauri)))\n"
   ]
  },
  {
   "cell_type": "markdown",
   "metadata": {
    "id": "3QPef1MmmCkv"
   },
   "source": [
    "#**[Problem 3]**\n",
    "##*Required paper length*"
   ]
  },
  {
   "cell_type": "code",
   "execution_count": 16,
   "metadata": {
    "colab": {
     "base_uri": "https://localhost:8080/"
    },
    "id": "cDLGXna6enRJ",
    "outputId": "4176e65f-ac25-413c-cd77-d1fcdacf8c14"
   },
   "outputs": [
    {
     "name": "stdout",
     "output_type": "stream",
     "text": [
      "The length of paper that can be folded to reach the height of Mount Fuji is 9,331,960,301.16\n",
      "The length of paper that can be folded to reach the Moon is 324,091,944,418,073,182,208.00\n",
      "The length of paper that can be folded to reach Proxima Centauri is 1,056,380,573,785,201,518,142,639,826,125,455,360.00\n"
     ]
    }
   ],
   "source": [
    "import math\n",
    "\n",
    "THICKNESS = 0.0008\n",
    "\n",
    "#Distances and heights\n",
    "fuji = 3776\n",
    "moon = 703687441.77664\n",
    "proxima_centauri = 4.0175 * 10**16\n",
    "\n",
    "# A function to calculate length of paper\n",
    "def length_of_paper(t_o, t_n):\n",
    "  p = math.pi\n",
    "  l = (p * t_o)/6 * (2**n_of_folds(t_o, t_n) + 4) * (2**n_of_folds(t_o, t_n) - 1)\n",
    "  return l\n",
    "\n",
    "print(\"The length of paper that can be folded to reach the height of Mount Fuji is {:,.2f}\".format(length_of_paper(THICKNESS, fuji)))\n",
    "\n",
    "\n",
    "print(\"The length of paper that can be folded to reach the Moon is {:,.2f}\".format(length_of_paper(THICKNESS, moon)))\n",
    "\n",
    "\n",
    "print(\"The length of paper that can be folded to reach Proxima Centauri is {:,.2f}\".format(length_of_paper(THICKNESS,proxima_centauri)))\n"
   ]
  },
  {
   "cell_type": "code",
   "execution_count": null,
   "metadata": {},
   "outputs": [],
   "source": []
  }
 ],
 "metadata": {
  "colab": {
   "collapsed_sections": [],
   "name": "mt_fuji_paper_folding_problem.ipynb",
   "provenance": []
  },
  "kernelspec": {
   "display_name": "Python 3",
   "language": "python",
   "name": "python3"
  },
  "language_info": {
   "codemirror_mode": {
    "name": "ipython",
    "version": 3
   },
   "file_extension": ".py",
   "mimetype": "text/x-python",
   "name": "python",
   "nbconvert_exporter": "python",
   "pygments_lexer": "ipython3",
   "version": "3.7.6"
  }
 },
 "nbformat": 4,
 "nbformat_minor": 1
}
