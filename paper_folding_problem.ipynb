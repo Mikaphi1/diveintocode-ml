{
 "cells": [
  {
   "cell_type": "markdown",
   "metadata": {
    "id": "on22uLNvsunA"
   },
   "source": [
    "#[Problem 1]\n",
    "##Implementation using exponentiation arithmetic operators"
   ]
  },
  {
   "cell_type": "code",
   "execution_count": 3,
   "metadata": {
    "colab": {
     "base_uri": "https://localhost:8080/"
    },
    "executionInfo": {
     "elapsed": 581,
     "status": "ok",
     "timestamp": 1626075873611,
     "user": {
      "displayName": "Michael Phiri",
      "photoUrl": "https://lh3.googleusercontent.com/a-/AOh14GgEIOk7_bfxhYQVL4xV1XvSg_xQ9aVqy6Umg9eFCg=s64",
      "userId": "02934014963361592208"
     },
     "user_tz": -120
    },
    "id": "k8QUHJKnvUbK",
    "outputId": "950a4473-f00c-4cfc-c584-a8f0635bff75"
   },
   "outputs": [
    {
     "name": "stdout",
     "output_type": "stream",
     "text": [
      "Thickness: 703687441.77664\n"
     ]
    }
   ],
   "source": [
    "# Programme that calculats the thickness of paper folded n times\n",
    "\n",
    "THICKNESS = 0.00008\n",
    "\n",
    "def thickness_calculator(n):\n",
    "  folded_thickness = THICKNESS * (2**n)\n",
    "  return folded_thickness\n",
    "\n",
    "print(\"Thickness: {}\".format(thickness_calculator(43)))"
   ]
  },
  {
   "cell_type": "markdown",
   "metadata": {
    "id": "2_TpCnmPu8oU"
   },
   "source": [
    "#[Problem 2]\n",
    "##Unit conversion"
   ]
  },
  {
   "cell_type": "code",
   "execution_count": 4,
   "metadata": {
    "colab": {
     "base_uri": "https://localhost:8080/"
    },
    "executionInfo": {
     "elapsed": 452,
     "status": "ok",
     "timestamp": 1626075878135,
     "user": {
      "displayName": "Michael Phiri",
      "photoUrl": "https://lh3.googleusercontent.com/a-/AOh14GgEIOk7_bfxhYQVL4xV1XvSg_xQ9aVqy6Umg9eFCg=s64",
      "userId": "02934014963361592208"
     },
     "user_tz": -120
    },
    "id": "FftJ6lRLvQ-V",
    "outputId": "241d77d7-46b0-42b3-c923-fea60fb43454"
   },
   "outputs": [
    {
     "name": "stdout",
     "output_type": "stream",
     "text": [
      "Thickness: 70.37 kilometers * 10^4\n",
      "Folded paper thickness has reached the moon.\n"
     ]
    }
   ],
   "source": [
    "# Convert meters to 10,000 kilometers and display with two decimal places\n",
    "\n",
    "THICKNESS = 0.00008\n",
    "\n",
    "def thickness_calculator(n):\n",
    "  folded_thickness = THICKNESS * (2**n)\n",
    "  return folded_thickness\n",
    "print(\"Thickness: {:.2f} kilometers * 10^4\".format(thickness_calculator(43)/10000000))\n",
    "\n",
    "\n",
    "# Check if the folded paper thickness has reached the moon\n",
    "\n",
    "if (thickness_calculator(43))/1000 > 384400:\n",
    "  print(\"Folded paper thickness has reached the moon.\")\n",
    "else:\n",
    "  print(\"Folded paper thickness has not reached the moon.\")"
   ]
  },
  {
   "cell_type": "markdown",
   "metadata": {
    "id": "v-DwKej0-c9X"
   },
   "source": [
    "#[Problem 3]\n",
    "##Create using \n",
    "```python\n",
    "for\n",
    "```\n"
   ]
  },
  {
   "cell_type": "code",
   "execution_count": 5,
   "metadata": {
    "colab": {
     "base_uri": "https://localhost:8080/"
    },
    "executionInfo": {
     "elapsed": 722,
     "status": "ok",
     "timestamp": 1626023688034,
     "user": {
      "displayName": "Michael Phiri",
      "photoUrl": "https://lh3.googleusercontent.com/a-/AOh14GgEIOk7_bfxhYQVL4xV1XvSg_xQ9aVqy6Umg9eFCg=s64",
      "userId": "02934014963361592208"
     },
     "user_tz": -120
    },
    "id": "AE4g67nC_R8w",
    "outputId": "38da363a-8a90-47c5-8962-12b203c72244"
   },
   "outputs": [
    {
     "name": "stdout",
     "output_type": "stream",
     "text": [
      "Thickness: 70.37 kilometers * 10^4\n",
      "Folded paper thickness has reached the moon.\n"
     ]
    }
   ],
   "source": [
    "# Create paper thickness calculation programme using for statement\n",
    "\n",
    "THICKNESS = 0.00008\n",
    "\n",
    "def thickness_calculator(exp):\n",
    "  ## Create exponantial function using for statement\n",
    "  def power(base, exp): \n",
    "    res = 1\n",
    "    for i in range(exp):\n",
    "       res *= base\n",
    "    return res\n",
    "  ## Calculate folded paper thickness\n",
    "  folded_thickness = THICKNESS * power(2, exp)\n",
    "  return folded_thickness\n",
    "\n",
    "print(\"Thickness: {:.2f} kilometers * 10^4\".format(thickness_calculator(43)/10000000))\n",
    "\n",
    "# Check if the folded paper thickness has reached the moon\n",
    "\n",
    "if (thickness_calculator(43))/1000 > 384400:\n",
    "  print(\"Folded paper thickness has reached the moon.\")\n",
    "else:\n",
    "  print(\"Folded paper thickness has not reached the moon.\")"
   ]
  },
  {
   "cell_type": "markdown",
   "metadata": {
    "id": "BzQh6Hv4PzgV"
   },
   "source": [
    "#[Problem 4]\n",
    "##Comparison of calculation time"
   ]
  },
  {
   "cell_type": "code",
   "execution_count": 6,
   "metadata": {
    "colab": {
     "base_uri": "https://localhost:8080/"
    },
    "executionInfo": {
     "elapsed": 472,
     "status": "ok",
     "timestamp": 1626075886208,
     "user": {
      "displayName": "Michael Phiri",
      "photoUrl": "https://lh3.googleusercontent.com/a-/AOh14GgEIOk7_bfxhYQVL4xV1XvSg_xQ9aVqy6Umg9eFCg=s64",
      "userId": "02934014963361592208"
     },
     "user_tz": -120
    },
    "id": "ltxi5b00ogEw",
    "outputId": "be17690b-2ff9-43f2-dbf8-13273a8f7c7d"
   },
   "outputs": [
    {
     "name": "stdout",
     "output_type": "stream",
     "text": [
      "time : 0.0[s]\n",
      "Thickness: 70.37 kilometers * 10^4\n"
     ]
    }
   ],
   "source": [
    "import time\n",
    "THICKNESS = 0.00008\n",
    "\n",
    "## Check time elapsed for method 1 which used exponential\n",
    "start = time.time()\n",
    "\n",
    "def thickness_calculator(n):\n",
    "  folded_thickness = THICKNESS * (2**n)\n",
    "  return folded_thickness\n",
    "\n",
    "elapsed_time = time.time() - start\n",
    "print(\"time : {}[s]\".format(elapsed_time))\n",
    "print(\"Thickness: {:.2f} kilometers * 10^4\".format(thickness_calculator(43)/10000000))"
   ]
  },
  {
   "cell_type": "code",
   "execution_count": 7,
   "metadata": {
    "colab": {
     "base_uri": "https://localhost:8080/"
    },
    "executionInfo": {
     "elapsed": 7,
     "status": "ok",
     "timestamp": 1626075889745,
     "user": {
      "displayName": "Michael Phiri",
      "photoUrl": "https://lh3.googleusercontent.com/a-/AOh14GgEIOk7_bfxhYQVL4xV1XvSg_xQ9aVqy6Umg9eFCg=s64",
      "userId": "02934014963361592208"
     },
     "user_tz": -120
    },
    "id": "LnkLa8LbQHCb",
    "outputId": "1a46ad28-f4fe-4604-cc8c-5e2b5d36eb58"
   },
   "outputs": [
    {
     "name": "stdout",
     "output_type": "stream",
     "text": [
      "time : 0.0[s]\n",
      "Thickness: 70.37 kilometers * 10^4\n"
     ]
    }
   ],
   "source": [
    "import time\n",
    "THICKNESS = 0.00008\n",
    "\n",
    "## Check time elapsed of method 2 which used for loop\n",
    "start = time.time()\n",
    "\n",
    "def thickness_calculator(exp):\n",
    "  def power(base, exp): \n",
    "    res = 1\n",
    "    for i in range(exp):\n",
    "       res *= base\n",
    "    return res\n",
    "  folded_thickness = THICKNESS * power(2, exp)\n",
    "  return folded_thickness\n",
    "\n",
    "elapsed_time = time.time() - start\n",
    "print(\"time : {}[s]\".format(elapsed_time))\n",
    "print(\"Thickness: {:.2f} kilometers * 10^4\".format(thickness_calculator(43)/10000000))\n",
    "\n"
   ]
  },
  {
   "cell_type": "markdown",
   "metadata": {
    "id": "AwKbncMHwqi6"
   },
   "source": [
    "##Use %%timeit magic command to time the two methods"
   ]
  },
  {
   "cell_type": "code",
   "execution_count": 7,
   "metadata": {
    "colab": {
     "base_uri": "https://localhost:8080/"
    },
    "executionInfo": {
     "elapsed": 8441,
     "status": "ok",
     "timestamp": 1626075903963,
     "user": {
      "displayName": "Michael Phiri",
      "photoUrl": "https://lh3.googleusercontent.com/a-/AOh14GgEIOk7_bfxhYQVL4xV1XvSg_xQ9aVqy6Umg9eFCg=s64",
      "userId": "02934014963361592208"
     },
     "user_tz": -120
    },
    "id": "J24-qXgmvF1e",
    "outputId": "5a2145ed-6314-4445-c91d-5f3ade8190ee"
   },
   "outputs": [
    {
     "name": "stdout",
     "output_type": "stream",
     "text": [
      "The slowest run took 15.75 times longer than the fastest. This could mean that an intermediate result is being cached.\n",
      "10000000 loops, best of 5: 108 ns per loop\n"
     ]
    }
   ],
   "source": [
    "%%timeit\n",
    "THICKNESS = 0.00008\n",
    "def thickness_calculator(n):\n",
    "  folded_thickness = THICKNESS * (2**n)\n",
    "  return folded_thickness\n"
   ]
  },
  {
   "cell_type": "code",
   "execution_count": 10,
   "metadata": {
    "colab": {
     "base_uri": "https://localhost:8080/"
    },
    "executionInfo": {
     "elapsed": 7161,
     "status": "ok",
     "timestamp": 1626075912927,
     "user": {
      "displayName": "Michael Phiri",
      "photoUrl": "https://lh3.googleusercontent.com/a-/AOh14GgEIOk7_bfxhYQVL4xV1XvSg_xQ9aVqy6Umg9eFCg=s64",
      "userId": "02934014963361592208"
     },
     "user_tz": -120
    },
    "id": "nBAjqYs0vv7h",
    "outputId": "dd26e346-4cf0-4c5f-d0c0-1cee81d84cb8"
   },
   "outputs": [
    {
     "name": "stdout",
     "output_type": "stream",
     "text": [
      "140 ns ± 12.5 ns per loop (mean ± std. dev. of 7 runs, 10000000 loops each)\n"
     ]
    }
   ],
   "source": [
    "%%timeit\n",
    "THICKNESS = 0.00008\n",
    "def thickness_calculator(exp):\n",
    "  def power(base, exp): \n",
    "    res = 1\n",
    "    for i in range(exp):\n",
    "       res *= base\n",
    "    return res\n",
    "  folded_thickness = THICKNESS * power(2, exp)\n",
    "  return folded_thickness"
   ]
  },
  {
   "cell_type": "markdown",
   "metadata": {
    "id": "tMtSjDLfOhyw"
   },
   "source": [
    "#[Problem 5]\n",
    "##Saving to lists"
   ]
  },
  {
   "cell_type": "code",
   "execution_count": 11,
   "metadata": {
    "colab": {
     "base_uri": "https://localhost:8080/"
    },
    "executionInfo": {
     "elapsed": 551,
     "status": "ok",
     "timestamp": 1626075916663,
     "user": {
      "displayName": "Michael Phiri",
      "photoUrl": "https://lh3.googleusercontent.com/a-/AOh14GgEIOk7_bfxhYQVL4xV1XvSg_xQ9aVqy6Umg9eFCg=s64",
      "userId": "02934014963361592208"
     },
     "user_tz": -120
    },
    "id": "SkMYFYD-Oilo",
    "outputId": "6bea6de2-dc89-4d97-c23f-aad5ff0921f3"
   },
   "outputs": [
    {
     "name": "stdout",
     "output_type": "stream",
     "text": [
      "[8e-05, 0.00016, 0.00032, 0.00064, 0.00128, 0.00256, 0.00512, 0.01024, 0.02048, 0.04096, 0.08192, 0.16384, 0.32768, 0.65536, 1.31072, 2.62144, 5.24288, 10.48576, 20.97152, 41.94304, 83.88608, 167.77216, 335.54432, 671.08864, 1342.17728, 2684.35456, 5368.70912, 10737.41824, 21474.83648, 42949.67296, 85899.34592, 171798.69184, 343597.38368, 687194.76736, 1374389.53472, 2748779.06944, 5497558.13888, 10995116.27776, 21990232.55552, 43980465.11104, 87960930.22208, 175921860.44416, 351843720.88832, 703687441.77664]\n",
      "44\n"
     ]
    }
   ],
   "source": [
    "#Create function that adds the 44 values to list\n",
    "\n",
    "def paper_thickness_values(n):\n",
    "  thickness_output = [] # Create an empty list\n",
    "  thickness_output.append(0.00008)  # Add the first value to the list using append method\n",
    "  ## Use for statement to apend remaining 43 values from the thickness calculator\n",
    "  for i in range(1, n):\n",
    "    thickness_output.append(thickness_calculator(i))\n",
    "  return thickness_output\n",
    "\n",
    "# Save values in list\n",
    "list_of_values = paper_thickness_values(44)\n",
    "\n",
    "print(list_of_values)\n",
    "print(len(list_of_values))"
   ]
  },
  {
   "cell_type": "markdown",
   "metadata": {
    "id": "-vkvJ8HB1JXr"
   },
   "source": [
    "#[Problem 6]\n",
    "##Dispalying a line graph"
   ]
  },
  {
   "cell_type": "code",
   "execution_count": 12,
   "metadata": {
    "colab": {
     "base_uri": "https://localhost:8080/",
     "height": 295
    },
    "executionInfo": {
     "elapsed": 544,
     "status": "ok",
     "timestamp": 1626075920741,
     "user": {
      "displayName": "Michael Phiri",
      "photoUrl": "https://lh3.googleusercontent.com/a-/AOh14GgEIOk7_bfxhYQVL4xV1XvSg_xQ9aVqy6Umg9eFCg=s64",
      "userId": "02934014963361592208"
     },
     "user_tz": -120
    },
    "id": "dTsXW0m31SD5",
    "outputId": "92ef7201-3f69-443a-ceb1-777e6581ee3e"
   },
   "outputs": [
    {
     "data": {
      "image/png": "[encoded data removed]",
      "text/plain": [
       "<Figure size 432x288 with 1 Axes>"
      ]
     },
     "metadata": {
      "needs_background": "light"
     },
     "output_type": "display_data"
    }
   ],
   "source": [
    "import matplotlib.pyplot as plt\n",
    "%matplotlib inline\n",
    "# Display the graph. Title and axis label name.\n",
    "plt.title(\"thickness of folded paper\")\n",
    "plt.xlabel(\"number of folds\")\n",
    "plt.ylabel(\"thickness [m]\")\n",
    "plt.plot(list_of_values)  # Enter the variable name of the list in \"List name\"\n",
    "plt.show()"
   ]
  },
  {
   "cell_type": "markdown",
   "metadata": {
    "id": "Ij1gJ8972S-h"
   },
   "source": [
    "##The Graph\n",
    "The graph is typical of an expontional line graph. It crosses the y axis at y=0.00008. It shows that the value of y doubles at each fold. Due to the small thickness at the beggining, the graph appears flat, but the gradient quickly starts to increase as the number of folds increases."
   ]
  },
  {
   "cell_type": "markdown",
   "metadata": {
    "id": "ZOzPcjsT2Tn7"
   },
   "source": [
    "#[Problem 7]\n",
    "##Customizing graphs"
   ]
  },
  {
   "cell_type": "code",
   "execution_count": 15,
   "metadata": {
    "colab": {
     "base_uri": "https://localhost:8080/",
     "height": 304
    },
    "executionInfo": {
     "elapsed": 1217,
     "status": "ok",
     "timestamp": 1626075926214,
     "user": {
      "displayName": "Michael Phiri",
      "photoUrl": "https://lh3.googleusercontent.com/a-/AOh14GgEIOk7_bfxhYQVL4xV1XvSg_xQ9aVqy6Umg9eFCg=s64",
      "userId": "02934014963361592208"
     },
     "user_tz": -120
    },
    "id": "w5lVsW2y2iBr",
    "outputId": "4cd5b5a6-1740-497b-f267-cb9cbfff9ad7"
   },
   "outputs": [
    {
     "data": {
      "image/png": "[encoded data removed]",
      "text/plain": [
       "<Figure size 432x288 with 1 Axes>"
      ]
     },
     "metadata": {},
     "output_type": "display_data"
    }
   ],
   "source": [
    "plt.title(\"thickness of folded paper\")\n",
    "plt.xlabel(\"number of folds\")\n",
    "plt.ylabel(\"thickness[m]\")\n",
    "plt.tick_params(labelsize=20) # Make settings related to axis values\n",
    "plt.style.use(['dark_background'])\n",
    "plt.plot(list_of_values,'r-o')\n",
    "plt.show()"
   ]
  },
  {
   "cell_type": "code",
   "execution_count": null,
   "metadata": {},
   "outputs": [],
   "source": []
  }
 ],
 "metadata": {
  "colab": {
   "authorship_tag": "ABX9TyP7f2l84FJa4LEOsUqH1oyY",
   "collapsed_sections": [],
   "name": "paper_folding_problem.ipynb",
   "provenance": []
  },
  "kernelspec": {
   "display_name": "Python 3",
   "language": "python",
   "name": "python3"
  },
  "language_info": {
   "codemirror_mode": {
    "name": "ipython",
    "version": 3
   },
   "file_extension": ".py",
   "mimetype": "text/x-python",
   "name": "python",
   "nbconvert_exporter": "python",
   "pygments_lexer": "ipython3",
   "version": "3.7.6"
  }
 },
 "nbformat": 4,
 "nbformat_minor": 1
}
